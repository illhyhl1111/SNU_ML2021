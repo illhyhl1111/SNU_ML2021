{
  "nbformat": 4,
  "nbformat_minor": 0,
  "metadata": {
    "colab": {
      "name": "Lab6.ipynb",
      "provenance": [],
      "collapsed_sections": [],
      "include_colab_link": true
    },
    "kernelspec": {
      "name": "python3",
      "display_name": "Python 3"
    },
    "accelerator": "GPU"
  },
  "cells": [
    {
      "cell_type": "markdown",
      "metadata": {
        "id": "view-in-github",
        "colab_type": "text"
      },
      "source": [
        "<a href=\"https://colab.research.google.com/github/illhyhl1111/SNU_ML2021/blob/main/Lab6.ipynb\" target=\"_parent\"><img src=\"https://colab.research.google.com/assets/colab-badge.svg\" alt=\"Open In Colab\"/></a>"
      ]
    },
    {
      "cell_type": "code",
      "metadata": {
        "id": "-sbkFbNUAKyK"
      },
      "source": [
        "import torch\n",
        "import torch.nn as nn\n",
        "import torch.nn.functional as F\n",
        "from torch.optim import Adam\n",
        "from torch.utils.data import DataLoader\n",
        "\n",
        "from torchvision.datasets import MNIST\n",
        "from torchvision.transforms import Compose,ToTensor\n",
        "\n",
        "from google.colab import drive\n",
        "import numpy as np\n",
        "import matplotlib.pyplot as plt\n",
        "import PIL\n",
        "\n",
        "import pdb\n",
        "from torch.utils.tensorboard import SummaryWriter\n",
        "import os\n",
        "import datetime\n",
        "%tensorflow_version 1.x"
      ],
      "execution_count": null,
      "outputs": []
    },
    {
      "cell_type": "markdown",
      "metadata": {
        "id": "9-mCz91mryvd"
      },
      "source": [
        "#### Connect to local google drive & settings for export/import models"
      ]
    },
    {
      "cell_type": "code",
      "metadata": {
        "id": "x_1Cr9tsrydl"
      },
      "source": [
        "drive.mount('/content/gdrive')\n",
        "!mkdir ./gdrive/'My Drive'/MNIST_models/"
      ],
      "execution_count": null,
      "outputs": []
    },
    {
      "cell_type": "markdown",
      "metadata": {
        "id": "c7KNrp6hGXWI"
      },
      "source": [
        "#### hyperparameters & datasets"
      ]
    },
    {
      "cell_type": "code",
      "metadata": {
        "id": "vny-hSnYGOx5"
      },
      "source": [
        "IMG_SIZE = 28\n",
        "BATCH_SIZE = 256\n",
        "LEARNING_RATE = 0.001\n",
        "NUM_EPOCHES = 30\n",
        "DEBUG = False\n",
        "USE_TENSORBOARD = False"
      ],
      "execution_count": null,
      "outputs": []
    },
    {
      "cell_type": "code",
      "metadata": {
        "id": "IpnCYlVHBuSW"
      },
      "source": [
        "transforms = Compose([\n",
        "    ToTensor(),\n",
        "])\n",
        "\n",
        "trainset = MNIST('/content/gdrive/My Drive/MNIST_models/',train=True,transform=transforms,download=True)\n",
        "testset = MNIST('/content/gdrive/My Drive/MNIST_models/',train=False,transform=transforms,download=True)\n",
        "\n",
        "args = {\n",
        "    'num_workers' : 1,\n",
        "    'batch_size' : BATCH_SIZE,\n",
        "    'shuffle' : True,\n",
        "}\n",
        "\n",
        "train_loader = DataLoader(trainset,**args)\n",
        "test_loader = DataLoader(testset,**args)"
      ],
      "execution_count": null,
      "outputs": []
    },
    {
      "cell_type": "markdown",
      "metadata": {
        "id": "TNCKxXJwGdN4"
      },
      "source": [
        "#### CNN model"
      ]
    },
    {
      "cell_type": "code",
      "metadata": {
        "id": "CvofB0pnGfHM"
      },
      "source": [
        "class MNISTCNN(nn.Module):\n",
        "    def __init__(self,IMG_SIZE=28):\n",
        "        super(MNISTCNN,self).__init__()\n",
        "        self.conv1 = nn.Conv2d(1,8,5,stride=2)\n",
        "        self.BN1 = torch.nn.BatchNorm2d(8)\n",
        "        self.conv2 = nn.Conv2d(8,8,5,stride=2)\n",
        "        self.BN2 = torch.nn.BatchNorm2d(8)\n",
        "        self.conv3 = nn.Conv2d(8,8,3,stride=1)\n",
        "        self.out_size = 8*3*3                      # error\n",
        "        self.fc = nn.Linear(self.out_size,10)\n",
        "    \n",
        "    def forward(self,x):\n",
        "        if DEBUG:\n",
        "            pdb.set_trace()\n",
        "        x = self.BN1(F.relu(self.conv1(x)))\n",
        "        x = self.BN2(F.relu(self.conv2(x)))\n",
        "        x = F.relu(self.conv3(x))\n",
        "        x = x.view(-1,self.out_size)\n",
        "        x = self.fc(x)\n",
        "        x = torch.softmax(x,dim=-1)\n",
        "        return x"
      ],
      "execution_count": null,
      "outputs": []
    },
    {
      "cell_type": "markdown",
      "metadata": {
        "id": "Zyvh6IKYZcdi"
      },
      "source": [
        "#### Util function for calculating accuracy"
      ]
    },
    {
      "cell_type": "code",
      "metadata": {
        "id": "7YSzoolPQqIL"
      },
      "source": [
        "def compute_acc(y_,y):\n",
        "    # pdb.set_trace()\n",
        "    _, argmax = torch.max(y_,dim=0)     # error\n",
        "    count = 0\n",
        "    for i in range(len(argmax)):\n",
        "        if argmax[i]==y[i]:\n",
        "            count+=1\n",
        "    return count / len(argmax)"
      ],
      "execution_count": null,
      "outputs": []
    },
    {
      "cell_type": "markdown",
      "metadata": {
        "id": "Fsmj80lyddZN"
      },
      "source": [
        "## pdb commands\n",
        "* `n(ext)`: 이번 line 실행(함수 내부로 들어가지 않음)\n",
        "* `s(tep)`: 이번 line 실행(함수 내부로 들어감)\n",
        "* `r(eturn)`: 현재 함수의 return이 실행될때까지 계속 실행\n",
        "* `l(ist)`: 현재 line과 위아래 5줄 출력\n",
        "* `c(ontinue)`: 다음 breakpoing(set_trace)가 실행될때까지 계속 실행\n",
        "* `p <variable>`: 변수의 값 출력\n",
        "* 그 외 python interpreter를 사용하는 것 처럼 아무런 명령어 실행 가능\n",
        "  * ex) `x += 3` -> 변수 x의 현재 값에 3이 더해짐\n",
        "  * `a += 1` 과 같이 변수가 pdb command와 이름이 겹칠 경우, `!`를 넣고 실행\n",
        "    * ex) `!a += 1`"
      ]
    },
    {
      "cell_type": "markdown",
      "metadata": {
        "id": "5ZlMbw_tZLT-"
      },
      "source": [
        "#### Training part(CNN)"
      ]
    },
    {
      "cell_type": "code",
      "metadata": {
        "id": "C8IVmmI4Z_PZ"
      },
      "source": [
        "DEBUG = False"
      ],
      "execution_count": null,
      "outputs": []
    },
    {
      "cell_type": "code",
      "metadata": {
        "id": "Q_hp82IXWJ4z"
      },
      "source": [
        "  model = MNISTCNN(IMG_SIZE).cuda()\n",
        "\n",
        "  model_parameters = filter(lambda p: p.requires_grad, model.parameters())\n",
        "  num_params = sum([np.prod(p.size()) for p in model_parameters])\n",
        "  print(\"number of parameters : {}\".format(num_params))\n",
        "  \n",
        "  optimizer = Adam(model.parameters(),lr=LEARNING_RATE)\n",
        "  loss_fn = nn.CrossEntropyLoss()\n",
        "\n",
        "  i_step = 0\n",
        "  for epoch in range(NUM_EPOCHES):\n",
        "      tot_loss = 0.0\n",
        "      \n",
        "      for idx, (x, y) in enumerate(train_loader):\n",
        "          optimizer.zero_grad()\n",
        "          x = x.cuda()\n",
        "          y_ = model(x)\n",
        "          loss = loss_fn(y_, y.cuda())\n",
        "          loss.backward()\n",
        "          tot_loss+=loss.item()\n",
        "          optimizer.step()\n",
        "\n",
        "          if USE_TENSORBOARD and idx % 10 == 0:\n",
        "              writer.add_scalar('writer/loss', loss.item(), i_step)\n",
        "              i_step += 1\n",
        "          \n",
        "      print(\"Epoch {}, Loss(train) : {}\".format(epoch+1,tot_loss))\n",
        "\n",
        "      model.eval()\n",
        "      \n",
        "      x,y = next(iter(test_loader))\n",
        "      x = x.cuda()\n",
        "      y_ = model(x)\n",
        "      test_acc = compute_acc(y_,y.numpy())\n",
        "      \n",
        "      print(\"Acc(test) : {}\".format(test_acc))\n",
        "      if USE_TENSORBOARD:\n",
        "          writer.add_scalar('writer/accuracy', test_acc, epoch)\n",
        "      \n",
        "      model.train()\n",
        "\n",
        "  torch.save(model.state_dict(), \"/content/gdrive/My Drive/MNIST_models/CNN.pt\")"
      ],
      "execution_count": null,
      "outputs": []
    },
    {
      "cell_type": "code",
      "metadata": {
        "id": "2xhN_wmbMR41"
      },
      "source": [
        "model_test = MNISTCNN(IMG_SIZE).cuda()\n",
        "model_test.load_state_dict(torch.load(\"/content/gdrive/My Drive/MNIST_models/CNN.pt\"))\n",
        "model_test.eval()\n",
        "x,y = next(iter(test_loader))\n",
        "x = x.cuda()\n",
        "y_ = model_test(x)\n",
        "\n",
        "test_acc = compute_acc(y_,y.numpy())\n",
        "\n",
        "print(\"Acc(test) : {}\".format(test_acc))"
      ],
      "execution_count": null,
      "outputs": []
    },
    {
      "cell_type": "markdown",
      "metadata": {
        "id": "Y7yvNNziyJT-"
      },
      "source": [
        "#### initialize SummaryWriter\n",
        "* tensorboard 사용을 위해서 커맨드로 tensorboard를 미리 실행해야 함\n",
        "  * `tensorboard --logdir=path/to/log-directory`\n",
        "  \n",
        "* colab에서 tensorboard 실행  \n",
        "  * `%load_ext tensorboard`\n",
        "  * `%tensorboard --logdir path/to/log-directory`"
      ]
    },
    {
      "cell_type": "code",
      "metadata": {
        "id": "YtURo9RPpCEa"
      },
      "source": [
        "now = datetime.datetime.now()\n",
        "now_str = now.strftime('%m-%d-%H-%M-%S')\n",
        "rundir = '/content/gdrive/My Drive/MNIST_models/runs'\n",
        "logdir = os.path.join(rundir, now_str)\n",
        "os.makedirs(rundir, exist_ok=True)\n",
        "writer = SummaryWriter(logdir)"
      ],
      "execution_count": null,
      "outputs": []
    },
    {
      "cell_type": "code",
      "metadata": {
        "id": "a5-grrIsia1o"
      },
      "source": [
        "!ls '/content/gdrive/My Drive/MNIST_models/runs'"
      ],
      "execution_count": null,
      "outputs": []
    },
    {
      "cell_type": "code",
      "metadata": {
        "id": "0j2wvlcKx7O1"
      },
      "source": [
        "USE_TENSORBOARD = True"
      ],
      "execution_count": null,
      "outputs": []
    },
    {
      "cell_type": "code",
      "metadata": {
        "id": "5UOLW_hmuV5R"
      },
      "source": [
        "%load_ext tensorboard\n",
        "%tensorboard --logdir '/content/gdrive/My Drive/MNIST_models/runs' --reload_interval 5"
      ],
      "execution_count": null,
      "outputs": []
    },
    {
      "cell_type": "code",
      "metadata": {
        "id": "NddQjjd77uE-"
      },
      "source": [
        ""
      ],
      "execution_count": null,
      "outputs": []
    }
  ]
}