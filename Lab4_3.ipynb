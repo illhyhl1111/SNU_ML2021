{
  "nbformat": 4,
  "nbformat_minor": 0,
  "metadata": {
    "colab": {
      "name": "RL SARSA.ipynb",
      "provenance": [],
      "collapsed_sections": [],
      "authorship_tag": "ABX9TyPTi+l/nUNoUTeQKNVEkoud",
      "include_colab_link": true
    },
    "kernelspec": {
      "name": "python3",
      "display_name": "Python 3"
    },
    "language_info": {
      "name": "python"
    }
  },
  "cells": [
    {
      "cell_type": "markdown",
      "metadata": {
        "id": "view-in-github",
        "colab_type": "text"
      },
      "source": [
        "<a href=\"https://colab.research.google.com/github/illhyhl1111/SNU_ML2021/blob/main/Lab4_3.ipynb\" target=\"_parent\"><img src=\"https://colab.research.google.com/assets/colab-badge.svg\" alt=\"Open In Colab\"/></a>"
      ]
    },
    {
      "cell_type": "code",
      "metadata": {
        "id": "T9ynJ-sd88Ln"
      },
      "source": [
        "import numpy as np\n",
        "import random\n",
        "import gym\n",
        "from pylab import plot\n",
        "%matplotlib inline"
      ],
      "execution_count": null,
      "outputs": []
    },
    {
      "cell_type": "markdown",
      "metadata": {
        "id": "Tz32vBFV7ikY"
      },
      "source": [
        "아래는 agent가 놓이게 될 RL 환경 FrozenLake을 설명한다.\n",
        "- 4$\\times$4 gridworld 환경이며, agent가 취할 수 있는 action은 \\{위, 아래, 오른쪽, 왼쪽\\}으로 이동하는 것이다.\n",
        "- episode의 시작에는 좌측 상단 코너에 agent가 위치되고 (`S`), 목적은 `H` 칸을 피하면서 `F`칸을 따라서 `G`칸까지 도달하는 것이다. (이 경우 +1 reward를 얻고, 나머지 경우에는 0 reward를 얻는다)\n",
        "```\n",
        "SFFF\n",
        "FHFH\n",
        "FFFH\n",
        "HFFG\n",
        "```\n",
        "- 다만 (설정상) 길이 미끄러우므로 '오른쪽' action을 취해도 반드시 오른쪽으로 한 칸 간다는 보장이 없으며, 일정 확률로 그냥 제자리에 있거나 아래 칸으로 빠질 수도 있다. 즉, stochastic인 환경이다.\n",
        "- observation/state은 agent의 현재 위치를 0, ..., 15 중 하나의 값으로 주어지고, action은 0, 1, 2, 3 중 하나의 값으로 취할 수 있다.\n",
        "\n",
        "많은 RL 환경들은 `gym` 라이브러리에서 지정된 방식을 이용하는데, 이 `gym`으로 구현된 환경들은 `reset` 함수와 `step` 함수를 지니고 있다. \\\\\n",
        "`reset()`은 환경의 episode를 새로 시작하며, 현재 state를 return한다.\n",
        "`step(action)`은 현재 상태에서 action을 취하여 `(next_state, reward, done, info)` tuple을 return한다."
      ]
    },
    {
      "cell_type": "code",
      "metadata": {
        "colab": {
          "base_uri": "https://localhost:8080/"
        },
        "id": "abIsgUjb2RZz",
        "outputId": "9d63f78a-e320-4f94-d33e-186bd4e3ad22"
      },
      "source": [
        "env=gym.make('FrozenLake-v0')\n",
        "\n",
        "print(env.reset())\n",
        "\n",
        "print(env.observation_space)\n",
        "print(env.action_space)\n",
        "\n",
        "print(env.step(0))  # Perform one arbitrary action\n",
        "# next state, reward, done (whether episode finished or not), and info (environment-related meta-info) are returned"
      ],
      "execution_count": null,
      "outputs": [
        {
          "output_type": "stream",
          "name": "stdout",
          "text": [
            "0\n",
            "Discrete(16)\n",
            "Discrete(4)\n",
            "(0, 0.0, False, {'prob': 0.3333333333333333})\n"
          ]
        }
      ]
    },
    {
      "cell_type": "markdown",
      "metadata": {
        "id": "FrZCF8S8Ji3D"
      },
      "source": [
        "아래는 이후에 학습 과정에서 이용할 hyperparameter 들이다."
      ]
    },
    {
      "cell_type": "code",
      "metadata": {
        "id": "c1KUyrg8JkBz"
      },
      "source": [
        "num_episodes = 5000       # Number of episodes to train for\n",
        "episode_max_length = 100  # Max length of one episode\n",
        "gamma = 0.95              # Discount factor\n",
        "lr = 0.8                  # Learning rate\n",
        "c = 2e-5                  # Coefficient for upper confidence bound (UCB)"
      ],
      "execution_count": null,
      "outputs": []
    },
    {
      "cell_type": "markdown",
      "metadata": {
        "id": "Q5RRSRYL7l2_"
      },
      "source": [
        "아래는 reward를 smoothing하여 기록하기 위한 (moving average를 계산하는) helper function이다.\n"
      ]
    },
    {
      "cell_type": "code",
      "metadata": {
        "id": "kex0_l8e7btQ"
      },
      "source": [
        "def moving_average(interval, window_size):\n",
        "    window= np.ones(int(window_size))/float(window_size)\n",
        "    return np.convolve(interval, window, 'valid')\n"
      ],
      "execution_count": null,
      "outputs": []
    },
    {
      "cell_type": "markdown",
      "metadata": {
        "id": "YJmBTsTdSraQ"
      },
      "source": [
        "action을 고르는 방식은 다양한데, 이 예시에서는 수업에서 배운 $\\varepsilon$-greedy가 아니라 Upper Confidence Bound (UCB) 방식을 쓴다.\n",
        "UCB는 아래와 같이 action을 고른다.\n",
        "$$\n",
        "A_t = \\text{argmax}_a \\left[ Q_t(S_t,a) + c \\sqrt{ \\frac{\\log t}{N_t (S_t, a)}} \\right]\n",
        "$$\n",
        "\n",
        "- $c$는 hyperparameter\n",
        "- $t$는 현재 시간 (episode 내의 시간이 아니라 이전 episode들 포함한 모든 time steps)\n",
        "- $N_t(s, a)$는 현재 $t$ 시점까지 $(s,a)$를 마주친 횟수이다.\n"
      ]
    },
    {
      "cell_type": "code",
      "metadata": {
        "id": "p-gR1sD5Smfi"
      },
      "source": [
        "# Action selection via UCB\n",
        "def ucb_action_selection(episode, state):\n",
        "    global Q, env, visit_counts, c\n",
        "    # argmax_a (Q_t + c*sqrt(log(episode num)/N_t))\n",
        "    return np.argmax(Q[state] + c * np.sqrt(np.log(episode + 1.0) / visit_counts[state]))"
      ],
      "execution_count": null,
      "outputs": []
    },
    {
      "cell_type": "markdown",
      "metadata": {
        "id": "Lm0tA7lnKH8D"
      },
      "source": [
        "아래는 SARSA training code이다.\n",
        "\n",
        "SARSA는 아래와 같은 방식으로 업데이트 한다.\n",
        "$$\n",
        "Q(S_t, A_t) \\leftarrow Q(S_t, A_t) + \\alpha (R_{t+1} + \\gamma Q(S_{t+1}, A_{t+1}) - Q(S_t, A_t))\n",
        "$$\n"
      ]
    },
    {
      "cell_type": "code",
      "metadata": {
        "colab": {
          "base_uri": "https://localhost:8080/",
          "height": 282
        },
        "id": "chh4niFm9CKV",
        "outputId": "db748c3f-e378-4c34-f6b2-332e48142795"
      },
      "source": [
        "# Initialize variables\n",
        "rwd_list = []\n",
        "Q=np.zeros([env.observation_space.n,env.action_space.n]) # Q function\n",
        "\n",
        "# Visit counts (N_t in the UCB formula)\n",
        "# Small value was added to avoid division by zero\n",
        "visit_counts = np.zeros_like(Q) + 1e-5\n",
        "\n",
        "# Run episodes\n",
        "for ep_idx in range(num_episodes):\n",
        "    # Reset the environment at the beginning of an episode\n",
        "    state = env.reset()\n",
        "    action = ucb_action_selection(ep_idx, state)  # This can be epsilon-greedy if needed\n",
        "    done = False\n",
        "\n",
        "    episode_rwd = 0.0\n",
        "   \n",
        "    # Run a single episode\n",
        "    for t in range(episode_max_length):\n",
        "        \n",
        "        # Execute an action, get next state and reward\n",
        "        next_state, rwd, done, _ = env.step(action)\n",
        "\n",
        "        episode_rwd += rwd\n",
        "        \n",
        "        # Visited state-action pair\n",
        "        visit_counts[state, action] += 1\n",
        "        \n",
        "        # Get next action\n",
        "        next_action = ucb_action_selection(ep_idx, next_state)\n",
        "\n",
        "        # Update Q function\n",
        "        Q[state, action] += lr * (rwd + gamma * Q[next_state, next_action] - Q[state, action])\n",
        "        \n",
        "        if done == True:\n",
        "            break\n",
        "        state = next_state\n",
        "        action = next_action\n",
        "    \n",
        "    rwd_list.append(episode_rwd)\n",
        "\n",
        "# Plot the rewards\n",
        "plot(moving_average(rwd_list, 100))"
      ],
      "execution_count": null,
      "outputs": [
        {
          "output_type": "execute_result",
          "data": {
            "text/plain": [
              "[<matplotlib.lines.Line2D at 0x7fc25840bdd0>]"
            ]
          },
          "metadata": {},
          "execution_count": 6
        },
        {
          "output_type": "display_data",
          "data": {
            "image/png": "[encoded data removed]",
            "text/plain": [
              "<Figure size 432x288 with 1 Axes>"
            ]
          },
          "metadata": {
            "needs_background": "light"
          }
        }
      ]
    },
    {
      "cell_type": "markdown",
      "metadata": {
        "id": "nXqu_uOMThJJ"
      },
      "source": [
        "아래는 Q-learning code이다.\n",
        "\n",
        "Q-learning은 아래와 같은 방식으로 업데이트 한다.\n",
        "$$\n",
        "Q(S_t, A_t) \\leftarrow Q(S_t, A_t) + \\alpha (R_{t+1} + \\gamma \\max_a Q(S_{t+1}, a) - Q(S_t, A_t))\n",
        "$$\n",
        "\n"
      ]
    },
    {
      "cell_type": "code",
      "metadata": {
        "colab": {
          "base_uri": "https://localhost:8080/",
          "height": 282
        },
        "id": "5DzdtYD5ThZp",
        "outputId": "0e718ee3-84d3-4a4f-f61e-2453f5588ddf"
      },
      "source": [
        "# Initialize variables\n",
        "rwd_list = []\n",
        "Q=np.zeros([env.observation_space.n,env.action_space.n]) # Q function\n",
        "\n",
        "# Visit counts (N_t in the UCB formula)\n",
        "# Small value was added to avoid division by zero\n",
        "visit_counts = np.zeros_like(Q) + 1e-5\n",
        "\n",
        "# Run episodes\n",
        "for ep_idx in range(num_episodes):\n",
        "    # Reset the environment at the beginning of an episode\n",
        "    state = env.reset()\n",
        "    done = False\n",
        "\n",
        "    episode_rwd = 0.0\n",
        "   \n",
        "    # Run a single episode\n",
        "    for t in range(episode_max_length):\n",
        "        action = ucb_action_selection(ep_idx, state)  # This can be epsilon-greedy if needed\n",
        "\n",
        "        # Execute an action, get next state and reward\n",
        "        next_state, rwd, done, _ = env.step(action)\n",
        "\n",
        "        episode_rwd += rwd\n",
        "        \n",
        "        # Visited state-action pair\n",
        "        visit_counts[state, action] += 1\n",
        "        \n",
        "        # Get next action\n",
        "        next_action = ucb_action_selection(ep_idx, next_state)\n",
        "\n",
        "        # Update Q function (This is the only part that mainly changed)\n",
        "        Q[state, action] += lr * (rwd + gamma * np.max(Q[next_state]) - Q[state, action])\n",
        "        \n",
        "        if done == True:\n",
        "            break\n",
        "        state = next_state\n",
        "        action = next_action\n",
        "    \n",
        "    rwd_list.append(episode_rwd)\n",
        "\n",
        "# Plot the rewards\n",
        "plot(moving_average(rwd_list, 100))"
      ],
      "execution_count": null,
      "outputs": [
        {
          "output_type": "execute_result",
          "data": {
            "text/plain": [
              "[<matplotlib.lines.Line2D at 0x7fc257f739d0>]"
            ]
          },
          "metadata": {},
          "execution_count": 7
        },
        {
          "output_type": "display_data",
          "data": {
            "image/png": "[encoded data removed]",
            "text/plain": [
              "<Figure size 432x288 with 1 Axes>"
            ]
          },
          "metadata": {
            "needs_background": "light"
          }
        }
      ]
    }
  ]
}